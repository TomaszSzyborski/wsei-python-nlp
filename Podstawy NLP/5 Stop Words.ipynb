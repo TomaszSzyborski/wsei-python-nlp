{
 "cells": [
  {
   "cell_type": "markdown",
   "metadata": {},
   "source": [
    "## Słowa przestankowe (Stop words)\n",
    "Za słowa przestankowe uważa się wyrazy, które występują często, jednak nie są nośnikiem zbyt dużej ilości informacji, więc nie mają większego wpływu na wydźwięk dokumentu. "
   ]
  },
  {
   "cell_type": "code",
   "execution_count": 2,
   "metadata": {},
   "outputs": [],
   "source": [
    "# Perform standard imports:\n",
    "import spacy\n",
    "nlp = spacy.load('en_core_web_sm')\n",
    "nlp_p = spacy.load('pl_core_news_sm')"
   ]
  },
  {
   "cell_type": "code",
   "execution_count": 6,
   "metadata": {},
   "outputs": [
    {
     "name": "stdout",
     "output_type": "stream",
     "text": [
      "{'‘s', 'nowhere', 'through', 'only', 'unless', 'namely', 'yourself', 'during', 'whereas', '‘ll', 'less', '’d', 'perhaps', 'fifty', 'around', 'mine', 'three', 'also', 'do', 'twelve', 'though', 'must', 'will', 'nothing', 'any', 'your', 'ever', 'forty', 'anywhere', 'everywhere', 'are', 'by', 'for', 'has', 'might', 'much', 'please', 'myself', 're', 'which', '‘re', 'am', 'almost', 'behind', '‘ve', 'seem', '’s', 'as', 'those', 'already', 'her', 'third', 'hers', 'serious', 'via', 'thence', \"'re\", 'would', 'until', 'get', 'or', 'sometime', 'so', 'been', 'either', 'first', 'nor', 'while', 'hundred', 'keep', 'often', 'enough', 'again', 'becomes', 'me', 'give', 'onto', 'there', 'used', 'still', 'very', 'own', 'these', 'yourselves', 'above', 'least', 'hereafter', 'down', 'top', 'between', 'along', 'everyone', 'him', 'in', 'same', 'bottom', 'further', 'may', 'towards', 'that', 'nobody', 'it', 'ca', 'he', 'however', 'i', 'how', 'most', 'my', 'what', 'could', 'whoever', 'else', 'last', 'rather', 'under', '’ll', 'itself', 'out', 'hence', 'except', 'ten', 'beside', 'yet', 'beforehand', 'full', '‘d', 'although', 'why', 'say', 'thereafter', 'make', 'whence', \"'ll\", 'after', 'whereupon', 'no', 'below', 'six', \"'ve\", 'from', 'ours', 'were', 'whatever', 'several', 'formerly', 'now', 'once', 'latter', 'alone', 'seeming', 'never', \"n't\", 'at', 'you', 'otherwise', 'yours', 'besides', 'two', 'should', 'due', 'because', 'eight', 'nine', 'wherever', 'eleven', 'but', 'made', 'whereby', 'moreover', 'since', \"'m\", '’m', 'they', 'become', 'beyond', 'of', 'per', 'show', 'such', 'be', 'put', 'twenty', 'this', 'then', 'himself', 'regarding', 'its', 'done', 'toward', 'none', 'not', '’ve', 'among', 'one', 'sixty', 'each', 'former', 'latterly', 'can', 'move', 'throughout', \"'d\", 'doing', 'n’t', 'within', 'off', 'afterwards', 'empty', 'thereby', 'always', 'an', 'front', 'whereafter', 'four', 'many', 'she', 'another', 'to', 'cannot', 'using', 'we', 'therefore', 'was', 'other', 'when', 'whither', 'really', 'herein', 'others', 'just', 'seems', 'indeed', \"'s\", 'both', 'even', 'back', 'if', 'where', 'n‘t', 'themselves', 'whom', 'had', 'have', 'on', 'some', 'became', 'well', 'meanwhile', 'elsewhere', 'see', 'whose', 'too', 'ourselves', 'into', 'against', 'and', 'amongst', 'nevertheless', 'amount', 'over', 'thus', 'here', 'them', 'thru', 'our', 'who', 'all', 'becoming', 'a', 'call', 'herself', 'the', 'whenever', 'did', 'up', 'part', 'therein', 'seemed', 'various', 'being', 'go', 'anything', 'thereupon', 'does', 'name', 'wherein', 'across', 'anyway', 'every', 'something', 'anyhow', 'more', 'their', 'is', '’re', 'hereupon', 'someone', 'sometimes', 'whole', 'without', 'everything', 'next', 'five', 'before', 'hereby', 'neither', 'somehow', 'with', '‘m', 'noone', 'few', 'somewhere', 'upon', 'us', 'fifteen', 'whether', 'his', 'anyone', 'mostly', 'take', 'than', 'quite', 'side', 'about', 'together'}\n"
     ]
    }
   ],
   "source": [
    "print(nlp.Defaults.stop_words)"
   ]
  },
  {
   "cell_type": "code",
   "execution_count": 7,
   "metadata": {},
   "outputs": [
    {
     "data": {
      "text/plain": [
       "326"
      ]
     },
     "execution_count": 7,
     "metadata": {},
     "output_type": "execute_result"
    }
   ],
   "source": [
    "len(nlp.Defaults.stop_words)"
   ]
  },
  {
   "cell_type": "code",
   "execution_count": 5,
   "metadata": {},
   "outputs": [
    {
     "name": "stdout",
     "output_type": "stream",
     "text": [
      "{'jeśli', 'razie', 'zadnych', 'temu', 'niemu', 'totez', 'ale', 'dwaj', 'sobą', 'cokolwiek', 'twoi', 'te', 'wszystkich', 'ok', 'nam', 'powinni', 'u', 'powinna', 'jako', 'wami', 'nad', 'nich', 'między', 'twoja', 'nim', 'totobą', 'xv', 'alez', 'ktory', 'swoje', 'mam', 'wy', 'ktorym', 'dwa', 'moja', 'prawie', 'twoje', 'nasi', 'ja', 'więc', 'jakiż', 'takich', 'soba', 'moim', 'wszystko', 'gdyby', 'wie', 'ten', 'było', 'inna', 'nas', 'mają', 'rowniez', 'przecież', 'zaś', 'mogą', 'moj', 'xi', 'oraz', 'nawet', 'kims', 'znowu', 'bylo', 'iz', 'byli', 'je', 'tutaj', 'jest', 'tę', 'mój', 'także', 'który', 'sam', 'moze', 'którym', 'on', 'ani', 'tej', 'naszego', 'choć', 'wlasnie', 'ponieważ', 'zeby', 'bowiem', 'przedtem', 'byla', 'żadnych', 'po', 'dokąd', 'ze', 'jedynie', 'moi', 'zapewne', 'miał', 'mozliwe', 'nasz', 'ku', 'nic', 'jakiś', 'więcej', 'toba', 'bede', 'jednym', 'im', 'ktos', 'nasza', 'dwoje', 'skąd', 'wasze', 'pan', 'które', 'zadne', 'coraz', 'wasi', 'daleko', 'w', 'wiele', 'jak', 'czemu', 'jeszcze', 'zadna', 'tobie', 'czasami', 'sposob', 'powinno', 'jakby', 'jakiz', 'będą', 'toteż', 'no', 'dlatego', 'naszych', 'już', 'juz', 'bym', 'mamy', 'vi', 'możliwe', 'cala', 'bez', 'sobie', 'tego', 'tys', 'którzy', 'mna', 'co', 'oto', 'sie', 'może', 'moje', 'według', 'gdyż', 'przy', 'was', 'owszem', 'tam', 'dosc', 'wtedy', 'kilka', 'caly', 'niz', 'a', 'cała', 'niż', 'cali', 'ma', 'moga', 'gdyz', 'takze', 'żeby', 'cie', 'go', 'nią', 'ktorego', 'jakichs', 'dla', 'ktorych', 'ono', 'pani', 'tych', 'mu', 'dzisiaj', 'poniewaz', 'wielu', 'aczkolwiek', 'być', 'jakis', 'gdzies', 'tak', 'acz', 'ile', 'ktorej', 'za', 'mozna', 'mi', 'beda', 'ona', 'mało', 'jednak', 'do', 'będzie', 'by', 'albo', 'jezeli', 'inny', 'ją', 'inne', 'wam', 'ach', 'jedno', 'dzis', 'coś', 'godz', 'xii', 'z', 'ktora', 'żadne', 'bedzie', 'i', 'zawsze', 'na', 'pana', 'raz', 'mną', 'właśnie', 'jakas', 'tobą', 'aj', 'są', 'był', 'trzeba', 'xiii', 'dlaczego', 'którego', 'natychmiast', 'niego', 'sama', 'byl', 'jeżeli', 'jakichś', 'oni', 'duzo', 'jakoś', 'zostal', 'będę', 'znow', 'można', 'byc', 'skad', 'wszyscy', 'przeciez', 'dość', 'tylko', 'pomimo', 'gdy', 'od', 'powinien', 'zaden', 'to', 'bynajmniej', 'natomiast', 'taki', 'jego', 'niech', 'vii', 'miedzy', 'że', 'pod', 'jakaś', 'twoj', 'jakos', 'bardziej', 'żaden', 'czyli', 'ix', 'jednakże', 'nasze', 'mimo', 'dobrze', 'sposób', 'mnie', 'jestem', 'podczas', 'nia', 'dwie', 'ty', 'ci', 'nimi', 'ktoś', 'chce', 'dziś', 'ich', 'jaki', 'każdy', 'bo', 'gdziekolwiek', 'która', 'czasem', 'kto', 'żadna', 'twój', 'przede', 'az', 'cały', 'twym', 'przed', 'byly', 'iv', 'kilku', 'kazdy', 'gdzieś', 'twoim', 'innych', 'dokad', 'się', 'gdzie', 'lecz', 'my', 'ależ', 'znów', 'aby', 'której', 'tym', 'o', 'jej', 'często', 'xiv', 'musi', 'jakkolwiek', 'jemu', 'czy', 'przez', 'bardzo', 'była', 'około', 'cos', 'został', 'ktokolwiek', 'dużo', 'taka', 'jedna', 'również', 'wszystkim', 'one', 'nigdy', 'poza', 'też', 'tu', 'wśród', 'viii', 'cię', 'wasza', 'których', 'we', 'iż', 'lub', 'nie', 'teraz', 'jeden', 'ponad', 'aż', 'jednakze', 'nami', 'kierunku', 'obok', 'ciebie', 'kimś', 'wasz', 'ktorzy', 'wszystkie', 'jesli', 'roku', 'były', 'ktore', 'niej', 'jakie', 'tzw', 'ta', 'takie', 'kiedy', 'tel'}\n"
     ]
    }
   ],
   "source": [
    "print(nlp_p.Defaults.stop_words)"
   ]
  },
  {
   "cell_type": "code",
   "execution_count": 8,
   "metadata": {},
   "outputs": [
    {
     "data": {
      "text/plain": [
       "381"
      ]
     },
     "execution_count": 8,
     "metadata": {},
     "output_type": "execute_result"
    }
   ],
   "source": [
    "len(nlp_p.Defaults.stop_words)"
   ]
  },
  {
   "cell_type": "code",
   "execution_count": 9,
   "metadata": {},
   "outputs": [
    {
     "data": {
      "text/plain": [
       "True"
      ]
     },
     "execution_count": 9,
     "metadata": {},
     "output_type": "execute_result"
    }
   ],
   "source": [
    "# sprawdzenie czy słowo znajduje się w słowach przestankowych\n",
    "nlp.vocab['myself'].is_stop"
   ]
  },
  {
   "cell_type": "code",
   "execution_count": 10,
   "metadata": {},
   "outputs": [
    {
     "data": {
      "text/plain": [
       "False"
      ]
     },
     "execution_count": 10,
     "metadata": {},
     "output_type": "execute_result"
    }
   ],
   "source": [
    "nlp.vocab['mystery'].is_stop"
   ]
  },
  {
   "cell_type": "markdown",
   "metadata": {},
   "source": [
    "## Dodanie słowa do słownika"
   ]
  },
  {
   "cell_type": "code",
   "execution_count": 24,
   "metadata": {},
   "outputs": [],
   "source": [
    "nlp.Defaults.stop_words.add('btw') # słowo zawsze należy dodawać małymi literami\n",
    "\n",
    "nlp.vocab['btw'].is_stop = True"
   ]
  },
  {
   "cell_type": "code",
   "execution_count": 25,
   "metadata": {},
   "outputs": [
    {
     "data": {
      "text/plain": [
       "327"
      ]
     },
     "execution_count": 25,
     "metadata": {},
     "output_type": "execute_result"
    }
   ],
   "source": [
    "len(nlp.Defaults.stop_words)"
   ]
  },
  {
   "cell_type": "code",
   "execution_count": 26,
   "metadata": {},
   "outputs": [
    {
     "data": {
      "text/plain": [
       "True"
      ]
     },
     "execution_count": 26,
     "metadata": {},
     "output_type": "execute_result"
    }
   ],
   "source": [
    "nlp.vocab['btw'].is_stop"
   ]
  },
  {
   "cell_type": "code",
   "execution_count": 27,
   "metadata": {},
   "outputs": [],
   "source": [
    "## Usuwanie słowa do słownika"
   ]
  },
  {
   "cell_type": "code",
   "execution_count": 29,
   "metadata": {},
   "outputs": [],
   "source": [
    "nlp.Defaults.stop_words.remove('btw')\n",
    "nlp.vocab['btw'].is_stop = False"
   ]
  },
  {
   "cell_type": "code",
   "execution_count": 30,
   "metadata": {},
   "outputs": [
    {
     "data": {
      "text/plain": [
       "326"
      ]
     },
     "execution_count": 30,
     "metadata": {},
     "output_type": "execute_result"
    }
   ],
   "source": [
    "len(nlp.Defaults.stop_words)"
   ]
  },
  {
   "cell_type": "code",
   "execution_count": 31,
   "metadata": {},
   "outputs": [
    {
     "data": {
      "text/plain": [
       "False"
      ]
     },
     "execution_count": 31,
     "metadata": {},
     "output_type": "execute_result"
    }
   ],
   "source": [
    "nlp.vocab['btw'].is_stop"
   ]
  },
  {
   "cell_type": "code",
   "execution_count": null,
   "metadata": {},
   "outputs": [],
   "source": []
  }
 ],
 "metadata": {
  "kernelspec": {
   "display_name": "Python 3",
   "language": "python",
   "name": "python3"
  },
  "language_info": {
   "codemirror_mode": {
    "name": "ipython",
    "version": 3
   },
   "file_extension": ".py",
   "mimetype": "text/x-python",
   "name": "python",
   "nbconvert_exporter": "python",
   "pygments_lexer": "ipython3",
   "version": "3.6.12"
  }
 },
 "nbformat": 4,
 "nbformat_minor": 4
}
